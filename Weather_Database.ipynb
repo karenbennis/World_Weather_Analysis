{
 "cells": [
  {
   "cell_type": "markdown",
   "metadata": {},
   "source": [
    "# Get the Weather Description and Amount of Precipitation for Each City"
   ]
  },
  {
   "cell_type": "code",
   "execution_count": 1,
   "metadata": {},
   "outputs": [],
   "source": [
    "# Import the dependencies.\n",
    "import pandas as pd\n",
    "import numpy as np"
   ]
  },
  {
   "cell_type": "code",
   "execution_count": 2,
   "metadata": {},
   "outputs": [
    {
     "data": {
      "text/plain": [
       "<zip at 0x25654217408>"
      ]
     },
     "execution_count": 2,
     "metadata": {},
     "output_type": "execute_result"
    }
   ],
   "source": [
    "# Create a set of random latitude and longitude combinations.\n",
    "lats = np.random.uniform(low=-90.000, high=90.000, size=1500)\n",
    "lngs = np.random.uniform(low=-180.000, high=180.000, size=1500)\n",
    "lat_lngs = zip(lats, lngs)\n",
    "lat_lngs"
   ]
  },
  {
   "cell_type": "code",
   "execution_count": 3,
   "metadata": {},
   "outputs": [],
   "source": [
    "# Add the latitudes and longitudes to a list.\n",
    "coordinates = list(lat_lngs)"
   ]
  },
  {
   "cell_type": "code",
   "execution_count": 4,
   "metadata": {},
   "outputs": [],
   "source": [
    "from citipy import citipy"
   ]
  },
  {
   "cell_type": "code",
   "execution_count": 5,
   "metadata": {},
   "outputs": [
    {
     "data": {
      "text/plain": [
       "620"
      ]
     },
     "execution_count": 5,
     "metadata": {},
     "output_type": "execute_result"
    }
   ],
   "source": [
    "# Create a list for holding the cities.\n",
    "cities = []\n",
    "# Identify the nearest city for each latitude and longitude combination.\n",
    "for coordinate in coordinates:\n",
    "    city = citipy.nearest_city(coordinate[0], coordinate[1]).city_name\n",
    "    \n",
    "    # If the city is unique, then we will add it to the cities list.\n",
    "    if city not in cities:\n",
    "        cities.append(city)\n",
    "\n",
    "# Print the city count to confirm sufficient count.\n",
    "len(cities)"
   ]
  },
  {
   "cell_type": "code",
   "execution_count": 6,
   "metadata": {},
   "outputs": [],
   "source": [
    "# Import the datetime module from the datetime library.\n",
    "from datetime import datetime"
   ]
  },
  {
   "cell_type": "code",
   "execution_count": 7,
   "metadata": {},
   "outputs": [],
   "source": [
    "# Import the requests library.\n",
    "import requests\n",
    "\n",
    "# Import the API key.\n",
    "from config import weather_api_key"
   ]
  },
  {
   "cell_type": "code",
   "execution_count": 8,
   "metadata": {},
   "outputs": [
    {
     "name": "stdout",
     "output_type": "stream",
     "text": [
      "http://api.openweathermap.org/data/2.5/weather?units=Imperial&APPID=4207db3a377792eb24c750378dd88d03\n"
     ]
    }
   ],
   "source": [
    "# Starting URL for Weather Map API Call.\n",
    "url = \"http://api.openweathermap.org/data/2.5/weather?units=Imperial&APPID=\" + weather_api_key\n",
    "print(url)"
   ]
  },
  {
   "cell_type": "code",
   "execution_count": 9,
   "metadata": {},
   "outputs": [],
   "source": [
    "# Create an empty list to hold the weather data.\n",
    "city_data = []\n",
    "\n",
    "# Loop through all the cities in the list.\n",
    "for i, city in enumerate(cities):\n",
    "\n",
    "    city_url = url + \"&q=\" + city\n",
    "\n",
    "  \n",
    "    # Run an API request for each of the cities.\n",
    "    try:\n",
    "        # Parse the JSON and retrieve data.\n",
    "        city_weather = requests.get(city_url).json()\n",
    "        # Parse out the needed data.\n",
    "        city_lat = city_weather[\"coord\"][\"lat\"]\n",
    "        city_lng = city_weather[\"coord\"][\"lon\"]\n",
    "        city_max_temp = city_weather[\"main\"][\"temp_max\"]\n",
    "        city_humidity = city_weather[\"main\"][\"humidity\"]\n",
    "        city_clouds = city_weather[\"clouds\"][\"all\"]\n",
    "        city_wind = city_weather[\"wind\"][\"speed\"]\n",
    "        city_country = city_weather[\"sys\"][\"country\"]\n",
    "        # Parse out the needed data, adding dictionary index since it is nested.\n",
    "        city_weather_description = city_weather[\"weather\"][0][\"description\"]\n",
    "        \n",
    "        # Get the amount of rainfall in inches for the last 3 hours\n",
    "        try:\n",
    "            city_rain_inches = city_weather[\"rain\"][\"3h\"] / 25.4\n",
    "        \n",
    "        except KeyError:\n",
    "            city_rain_inches = 0\n",
    "            \n",
    "        # Get the amount of snowfall in inches for the last 3 hours\n",
    "        try:\n",
    "            city_snow_inches = city_weather[\"snow\"][\"3h\"] / 25.4\n",
    "        \n",
    "        except KeyError:\n",
    "            city_snow_inches = 0\n",
    "                \n",
    "        # Convert the date to ISO standard.\n",
    "        city_date = datetime.utcfromtimestamp(city_weather[\"dt\"]).strftime('%Y-%m-%d %H:%M:%S')\n",
    "        \n",
    "        # Convert rainfall and snowfall to inches\n",
    "        \n",
    "        # Append the city information into city_data list.\n",
    "        city_data.append({\"City\": city.title(),\n",
    "                          \"Country\": city_country,\n",
    "                          \"Date\": city_date,\n",
    "                          \"Lat\": city_lat,\n",
    "                          \"Lng\": city_lng,\n",
    "                          \"Max Temp\": city_max_temp,\n",
    "                          \"Humidity\": city_humidity,\n",
    "                          \"Cloudiness\": city_clouds,\n",
    "                          \"Wind Speed\": city_wind,\n",
    "                          \"Current Description\": city_weather_description,\n",
    "                          \"Rain inches (last 3 hrs)\": city_rain_inches,\n",
    "                          \"Snow inches (last 3 hrs)\": city_snow_inches})\n",
    "\n",
    "    # If an error is experienced, skip the city.\n",
    "    except:\n",
    "        pass"
   ]
  },
  {
   "cell_type": "code",
   "execution_count": 10,
   "metadata": {},
   "outputs": [
    {
     "data": {
      "text/html": [
       "<div>\n",
       "<style scoped>\n",
       "    .dataframe tbody tr th:only-of-type {\n",
       "        vertical-align: middle;\n",
       "    }\n",
       "\n",
       "    .dataframe tbody tr th {\n",
       "        vertical-align: top;\n",
       "    }\n",
       "\n",
       "    .dataframe thead th {\n",
       "        text-align: right;\n",
       "    }\n",
       "</style>\n",
       "<table border=\"1\" class=\"dataframe\">\n",
       "  <thead>\n",
       "    <tr style=\"text-align: right;\">\n",
       "      <th></th>\n",
       "      <th>City</th>\n",
       "      <th>Country</th>\n",
       "      <th>Date</th>\n",
       "      <th>Lat</th>\n",
       "      <th>Lng</th>\n",
       "      <th>Max Temp</th>\n",
       "      <th>Humidity</th>\n",
       "      <th>Cloudiness</th>\n",
       "      <th>Wind Speed</th>\n",
       "      <th>Current Description</th>\n",
       "      <th>Rain inches (last 3 hrs)</th>\n",
       "      <th>Snow inches (last 3 hrs)</th>\n",
       "    </tr>\n",
       "  </thead>\n",
       "  <tbody>\n",
       "    <tr>\n",
       "      <th>0</th>\n",
       "      <td>Ambanja</td>\n",
       "      <td>MG</td>\n",
       "      <td>2020-04-03 17:08:01</td>\n",
       "      <td>-13.68</td>\n",
       "      <td>48.45</td>\n",
       "      <td>79.16</td>\n",
       "      <td>76</td>\n",
       "      <td>40</td>\n",
       "      <td>0.87</td>\n",
       "      <td>light rain</td>\n",
       "      <td>0.066142</td>\n",
       "      <td>0.0</td>\n",
       "    </tr>\n",
       "    <tr>\n",
       "      <th>1</th>\n",
       "      <td>Qingquan</td>\n",
       "      <td>CN</td>\n",
       "      <td>2020-04-03 17:08:02</td>\n",
       "      <td>30.45</td>\n",
       "      <td>115.26</td>\n",
       "      <td>56.77</td>\n",
       "      <td>77</td>\n",
       "      <td>94</td>\n",
       "      <td>2.53</td>\n",
       "      <td>overcast clouds</td>\n",
       "      <td>0.000000</td>\n",
       "      <td>0.0</td>\n",
       "    </tr>\n",
       "    <tr>\n",
       "      <th>2</th>\n",
       "      <td>Mataura</td>\n",
       "      <td>NZ</td>\n",
       "      <td>2020-04-03 17:08:02</td>\n",
       "      <td>-46.19</td>\n",
       "      <td>168.86</td>\n",
       "      <td>46.99</td>\n",
       "      <td>96</td>\n",
       "      <td>99</td>\n",
       "      <td>2.30</td>\n",
       "      <td>overcast clouds</td>\n",
       "      <td>0.000000</td>\n",
       "      <td>0.0</td>\n",
       "    </tr>\n",
       "    <tr>\n",
       "      <th>3</th>\n",
       "      <td>Mindelo</td>\n",
       "      <td>CV</td>\n",
       "      <td>2020-04-03 17:08:02</td>\n",
       "      <td>16.89</td>\n",
       "      <td>-24.98</td>\n",
       "      <td>82.40</td>\n",
       "      <td>51</td>\n",
       "      <td>20</td>\n",
       "      <td>21.92</td>\n",
       "      <td>few clouds</td>\n",
       "      <td>0.000000</td>\n",
       "      <td>0.0</td>\n",
       "    </tr>\n",
       "    <tr>\n",
       "      <th>4</th>\n",
       "      <td>Conceicao Do Araguaia</td>\n",
       "      <td>BR</td>\n",
       "      <td>2020-04-03 17:08:02</td>\n",
       "      <td>-8.26</td>\n",
       "      <td>-49.26</td>\n",
       "      <td>91.40</td>\n",
       "      <td>59</td>\n",
       "      <td>75</td>\n",
       "      <td>3.36</td>\n",
       "      <td>broken clouds</td>\n",
       "      <td>0.000000</td>\n",
       "      <td>0.0</td>\n",
       "    </tr>\n",
       "    <tr>\n",
       "      <th>5</th>\n",
       "      <td>Ushuaia</td>\n",
       "      <td>AR</td>\n",
       "      <td>2020-04-03 17:04:59</td>\n",
       "      <td>-54.80</td>\n",
       "      <td>-68.30</td>\n",
       "      <td>47.97</td>\n",
       "      <td>51</td>\n",
       "      <td>43</td>\n",
       "      <td>8.25</td>\n",
       "      <td>light rain</td>\n",
       "      <td>0.004331</td>\n",
       "      <td>0.0</td>\n",
       "    </tr>\n",
       "    <tr>\n",
       "      <th>6</th>\n",
       "      <td>Ulaanbaatar</td>\n",
       "      <td>MN</td>\n",
       "      <td>2020-04-03 17:08:03</td>\n",
       "      <td>47.91</td>\n",
       "      <td>106.88</td>\n",
       "      <td>23.00</td>\n",
       "      <td>57</td>\n",
       "      <td>0</td>\n",
       "      <td>2.24</td>\n",
       "      <td>clear sky</td>\n",
       "      <td>0.000000</td>\n",
       "      <td>0.0</td>\n",
       "    </tr>\n",
       "    <tr>\n",
       "      <th>7</th>\n",
       "      <td>Enkoping</td>\n",
       "      <td>SE</td>\n",
       "      <td>2020-04-03 17:08:03</td>\n",
       "      <td>59.64</td>\n",
       "      <td>17.08</td>\n",
       "      <td>42.80</td>\n",
       "      <td>26</td>\n",
       "      <td>63</td>\n",
       "      <td>17.22</td>\n",
       "      <td>broken clouds</td>\n",
       "      <td>0.000000</td>\n",
       "      <td>0.0</td>\n",
       "    </tr>\n",
       "    <tr>\n",
       "      <th>8</th>\n",
       "      <td>Hermanus</td>\n",
       "      <td>ZA</td>\n",
       "      <td>2020-04-03 17:08:03</td>\n",
       "      <td>-34.42</td>\n",
       "      <td>19.23</td>\n",
       "      <td>73.00</td>\n",
       "      <td>83</td>\n",
       "      <td>64</td>\n",
       "      <td>6.76</td>\n",
       "      <td>broken clouds</td>\n",
       "      <td>0.000000</td>\n",
       "      <td>0.0</td>\n",
       "    </tr>\n",
       "    <tr>\n",
       "      <th>9</th>\n",
       "      <td>Constitucion</td>\n",
       "      <td>CL</td>\n",
       "      <td>2020-04-03 17:08:03</td>\n",
       "      <td>-35.33</td>\n",
       "      <td>-72.42</td>\n",
       "      <td>70.36</td>\n",
       "      <td>38</td>\n",
       "      <td>24</td>\n",
       "      <td>12.68</td>\n",
       "      <td>few clouds</td>\n",
       "      <td>0.000000</td>\n",
       "      <td>0.0</td>\n",
       "    </tr>\n",
       "  </tbody>\n",
       "</table>\n",
       "</div>"
      ],
      "text/plain": [
       "                    City Country                 Date    Lat     Lng  \\\n",
       "0                Ambanja      MG  2020-04-03 17:08:01 -13.68   48.45   \n",
       "1               Qingquan      CN  2020-04-03 17:08:02  30.45  115.26   \n",
       "2                Mataura      NZ  2020-04-03 17:08:02 -46.19  168.86   \n",
       "3                Mindelo      CV  2020-04-03 17:08:02  16.89  -24.98   \n",
       "4  Conceicao Do Araguaia      BR  2020-04-03 17:08:02  -8.26  -49.26   \n",
       "5                Ushuaia      AR  2020-04-03 17:04:59 -54.80  -68.30   \n",
       "6            Ulaanbaatar      MN  2020-04-03 17:08:03  47.91  106.88   \n",
       "7               Enkoping      SE  2020-04-03 17:08:03  59.64   17.08   \n",
       "8               Hermanus      ZA  2020-04-03 17:08:03 -34.42   19.23   \n",
       "9           Constitucion      CL  2020-04-03 17:08:03 -35.33  -72.42   \n",
       "\n",
       "   Max Temp  Humidity  Cloudiness  Wind Speed Current Description  \\\n",
       "0     79.16        76          40        0.87          light rain   \n",
       "1     56.77        77          94        2.53     overcast clouds   \n",
       "2     46.99        96          99        2.30     overcast clouds   \n",
       "3     82.40        51          20       21.92          few clouds   \n",
       "4     91.40        59          75        3.36       broken clouds   \n",
       "5     47.97        51          43        8.25          light rain   \n",
       "6     23.00        57           0        2.24           clear sky   \n",
       "7     42.80        26          63       17.22       broken clouds   \n",
       "8     73.00        83          64        6.76       broken clouds   \n",
       "9     70.36        38          24       12.68          few clouds   \n",
       "\n",
       "   Rain inches (last 3 hrs)  Snow inches (last 3 hrs)  \n",
       "0                  0.066142                       0.0  \n",
       "1                  0.000000                       0.0  \n",
       "2                  0.000000                       0.0  \n",
       "3                  0.000000                       0.0  \n",
       "4                  0.000000                       0.0  \n",
       "5                  0.004331                       0.0  \n",
       "6                  0.000000                       0.0  \n",
       "7                  0.000000                       0.0  \n",
       "8                  0.000000                       0.0  \n",
       "9                  0.000000                       0.0  "
      ]
     },
     "execution_count": 10,
     "metadata": {},
     "output_type": "execute_result"
    }
   ],
   "source": [
    "# Convert the array of dictionaries to a Pandas DataFrame.\n",
    "city_data_df = pd.DataFrame(city_data)\n",
    "city_data_df.head(10)"
   ]
  },
  {
   "cell_type": "code",
   "execution_count": 11,
   "metadata": {},
   "outputs": [],
   "source": [
    "# Create the output file (CSV).\n",
    "output_challenge_data_file = \"data/WeatherPy_challenge.csv\"\n",
    "\n",
    "# Export the City_Data into a CSV.\n",
    "city_data_df.to_csv(output_challenge_data_file, index=False)"
   ]
  },
  {
   "cell_type": "code",
   "execution_count": 12,
   "metadata": {},
   "outputs": [
    {
     "data": {
      "text/plain": [
       "98"
      ]
     },
     "execution_count": 12,
     "metadata": {},
     "output_type": "execute_result"
    }
   ],
   "source": [
    "# Create DataFrame to determine how many cities have recorded rainfall or snowfall in the last 3 hours.\n",
    "cities_rain_snow_df = city_data_df.loc[(city_data_df[\"Rain inches (last 3 hrs)\"] > 0) |\n",
    "                                       (city_data_df[\"Snow inches (last 3 hrs)\"] > 0)]\n",
    "\n",
    "# Get the number of cies that have recorded rainfall or snowfall in the last 3 hours.\n",
    "len(cities_rain_snow_df)"
   ]
  },
  {
   "cell_type": "code",
   "execution_count": null,
   "metadata": {},
   "outputs": [],
   "source": []
  }
 ],
 "metadata": {
  "kernelspec": {
   "display_name": "PythonData",
   "language": "python",
   "name": "pythondata"
  },
  "language_info": {
   "codemirror_mode": {
    "name": "ipython",
    "version": 3
   },
   "file_extension": ".py",
   "mimetype": "text/x-python",
   "name": "python",
   "nbconvert_exporter": "python",
   "pygments_lexer": "ipython3",
   "version": "3.7.6"
  }
 },
 "nbformat": 4,
 "nbformat_minor": 4
}
