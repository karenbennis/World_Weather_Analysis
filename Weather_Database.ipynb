{
 "cells": [
  {
   "cell_type": "markdown",
   "metadata": {},
   "source": [
    "# Get the Weather Description and Amount of Precipitation for Each City"
   ]
  },
  {
   "cell_type": "code",
   "execution_count": 1,
   "metadata": {},
   "outputs": [],
   "source": [
    "# Import the dependencies.\n",
    "import pandas as pd\n",
    "import matplotlib.pyplot as plt\n",
    "import numpy as np"
   ]
  },
  {
   "cell_type": "code",
   "execution_count": 2,
   "metadata": {},
   "outputs": [
    {
     "data": {
      "text/plain": [
       "<zip at 0x1422961e748>"
      ]
     },
     "execution_count": 2,
     "metadata": {},
     "output_type": "execute_result"
    }
   ],
   "source": [
    "# Create a set of random latitude and longitude combinations.\n",
    "lats = np.random.uniform(low=-90.000, high=90.000, size=1500)\n",
    "lngs = np.random.uniform(low=-180.000, high=180.000, size=1500)\n",
    "lat_lngs = zip(lats, lngs)\n",
    "lat_lngs"
   ]
  },
  {
   "cell_type": "code",
   "execution_count": 3,
   "metadata": {},
   "outputs": [],
   "source": [
    "# Add the latitudes and longitudes to a list.\n",
    "coordinates = list(lat_lngs)"
   ]
  },
  {
   "cell_type": "code",
   "execution_count": 4,
   "metadata": {},
   "outputs": [],
   "source": [
    "from citipy import citipy"
   ]
  },
  {
   "cell_type": "code",
   "execution_count": 5,
   "metadata": {},
   "outputs": [
    {
     "data": {
      "text/plain": [
       "643"
      ]
     },
     "execution_count": 5,
     "metadata": {},
     "output_type": "execute_result"
    }
   ],
   "source": [
    "# Create a list for holding the cities.\n",
    "cities = []\n",
    "# Identify the nearest city for each latitude and longitude combination.\n",
    "for coordinate in coordinates:\n",
    "    city = citipy.nearest_city(coordinate[0], coordinate[1]).city_name\n",
    "    \n",
    "    # If the city is unique, then we will add it to the cities list.\n",
    "    if city not in cities:\n",
    "        cities.append(city)\n",
    "\n",
    "# Print the city count to confirm sufficient count.\n",
    "len(cities)"
   ]
  },
  {
   "cell_type": "code",
   "execution_count": 6,
   "metadata": {},
   "outputs": [],
   "source": [
    "# Import the datetime module from the datetime library.\n",
    "from datetime import datetime"
   ]
  },
  {
   "cell_type": "code",
   "execution_count": 7,
   "metadata": {},
   "outputs": [],
   "source": [
    "# Import the requests library.\n",
    "import requests\n",
    "\n",
    "# Import the API key.\n",
    "from config import weather_api_key"
   ]
  },
  {
   "cell_type": "code",
   "execution_count": 8,
   "metadata": {},
   "outputs": [
    {
     "name": "stdout",
     "output_type": "stream",
     "text": [
      "http://api.openweathermap.org/data/2.5/weather?units=Imperial&APPID=4207db3a377792eb24c750378dd88d03\n"
     ]
    }
   ],
   "source": [
    "# Starting URL for Weather Map API Call.\n",
    "url = \"http://api.openweathermap.org/data/2.5/weather?units=Imperial&APPID=\" + weather_api_key\n",
    "print(url)"
   ]
  },
  {
   "cell_type": "code",
   "execution_count": 9,
   "metadata": {},
   "outputs": [],
   "source": [
    "# Create an empty list to hold the weather data.\n",
    "city_data = []\n",
    "\n",
    "# Loop through all the cities in the list.\n",
    "for i, city in enumerate(cities):\n",
    "\n",
    "    city_url = url + \"&q=\" + city\n",
    "\n",
    "  \n",
    "    # Run an API request for each of the cities.\n",
    "    try:\n",
    "        # Parse the JSON and retrieve data.\n",
    "        city_weather = requests.get(city_url).json()\n",
    "        # Parse out the needed data.\n",
    "        city_lat = city_weather[\"coord\"][\"lat\"]\n",
    "        city_lng = city_weather[\"coord\"][\"lon\"]\n",
    "        city_max_temp = city_weather[\"main\"][\"temp_max\"]\n",
    "        city_humidity = city_weather[\"main\"][\"humidity\"]\n",
    "        city_clouds = city_weather[\"clouds\"][\"all\"]\n",
    "        city_wind = city_weather[\"wind\"][\"speed\"]\n",
    "        city_country = city_weather[\"sys\"][\"country\"]\n",
    "        # Parse out the needed data, adding dictionary index since it is nested.\n",
    "        city_weather_description = city_weather[\"weather\"][0][\"description\"]\n",
    "        \n",
    "        # Get the amount of rainfall in inches for the last 3 hours\n",
    "        try:\n",
    "            city_rain_inches = city_weather[\"rain\"][\"3h\"] / 25.4\n",
    "        \n",
    "        except KeyError:\n",
    "            city_rain_inches = 0\n",
    "            \n",
    "        # Get the amount of snowfall in inches for the last 3 hours\n",
    "        try:\n",
    "            city_snow_inches = city_weather[\"snow\"][\"3h\"] / 25.4\n",
    "        \n",
    "        except KeyError:\n",
    "            city_snow_inches = 0\n",
    "                \n",
    "        # Convert the date to ISO standard.\n",
    "        city_date = datetime.utcfromtimestamp(city_weather[\"dt\"]).strftime('%Y-%m-%d %H:%M:%S')\n",
    "        \n",
    "        # Convert rainfall and snowfall to inches\n",
    "        \n",
    "        # Append the city information into city_data list.\n",
    "        city_data.append({\"City\": city.title(),\n",
    "                          \"Country\": city_country,\n",
    "                          \"Date\": city_date,\n",
    "                          \"Lat\": city_lat,\n",
    "                          \"Lng\": city_lng,\n",
    "                          \"Max Temp\": city_max_temp,\n",
    "                          \"Humidity\": city_humidity,\n",
    "                          \"Cloudiness\": city_clouds,\n",
    "                          \"Wind Speed\": city_wind,\n",
    "                          \"Current Description\": city_weather_description,\n",
    "                          \"Rain inches (last 3 hrs)\": city_rain_inches,\n",
    "                          \"Snow inches (last 3 hrs)\": city_snow_inches})\n",
    "\n",
    "    # If an error is experienced, skip the city.\n",
    "    except:\n",
    "        pass"
   ]
  },
  {
   "cell_type": "code",
   "execution_count": 10,
   "metadata": {},
   "outputs": [
    {
     "data": {
      "text/html": [
       "<div>\n",
       "<style scoped>\n",
       "    .dataframe tbody tr th:only-of-type {\n",
       "        vertical-align: middle;\n",
       "    }\n",
       "\n",
       "    .dataframe tbody tr th {\n",
       "        vertical-align: top;\n",
       "    }\n",
       "\n",
       "    .dataframe thead th {\n",
       "        text-align: right;\n",
       "    }\n",
       "</style>\n",
       "<table border=\"1\" class=\"dataframe\">\n",
       "  <thead>\n",
       "    <tr style=\"text-align: right;\">\n",
       "      <th></th>\n",
       "      <th>City</th>\n",
       "      <th>Country</th>\n",
       "      <th>Date</th>\n",
       "      <th>Lat</th>\n",
       "      <th>Lng</th>\n",
       "      <th>Max Temp</th>\n",
       "      <th>Humidity</th>\n",
       "      <th>Cloudiness</th>\n",
       "      <th>Wind Speed</th>\n",
       "      <th>Current Description</th>\n",
       "      <th>Rain inches (last 3 hrs)</th>\n",
       "      <th>Snow inches (last 3 hrs)</th>\n",
       "    </tr>\n",
       "  </thead>\n",
       "  <tbody>\n",
       "    <tr>\n",
       "      <th>0</th>\n",
       "      <td>Phan Thiet</td>\n",
       "      <td>VN</td>\n",
       "      <td>2020-04-02 20:50:31</td>\n",
       "      <td>10.93</td>\n",
       "      <td>108.10</td>\n",
       "      <td>74.37</td>\n",
       "      <td>81</td>\n",
       "      <td>26</td>\n",
       "      <td>9.78</td>\n",
       "      <td>scattered clouds</td>\n",
       "      <td>0.000000</td>\n",
       "      <td>0.0</td>\n",
       "    </tr>\n",
       "    <tr>\n",
       "      <th>1</th>\n",
       "      <td>Albany</td>\n",
       "      <td>US</td>\n",
       "      <td>2020-04-02 20:52:28</td>\n",
       "      <td>42.60</td>\n",
       "      <td>-73.97</td>\n",
       "      <td>55.40</td>\n",
       "      <td>37</td>\n",
       "      <td>90</td>\n",
       "      <td>19.46</td>\n",
       "      <td>overcast clouds</td>\n",
       "      <td>0.000000</td>\n",
       "      <td>0.0</td>\n",
       "    </tr>\n",
       "    <tr>\n",
       "      <th>2</th>\n",
       "      <td>Saskylakh</td>\n",
       "      <td>RU</td>\n",
       "      <td>2020-04-02 20:52:29</td>\n",
       "      <td>71.92</td>\n",
       "      <td>114.08</td>\n",
       "      <td>-11.33</td>\n",
       "      <td>86</td>\n",
       "      <td>12</td>\n",
       "      <td>10.42</td>\n",
       "      <td>few clouds</td>\n",
       "      <td>0.000000</td>\n",
       "      <td>0.0</td>\n",
       "    </tr>\n",
       "    <tr>\n",
       "      <th>3</th>\n",
       "      <td>Montelibano</td>\n",
       "      <td>CO</td>\n",
       "      <td>2020-04-02 20:52:29</td>\n",
       "      <td>7.98</td>\n",
       "      <td>-75.42</td>\n",
       "      <td>91.40</td>\n",
       "      <td>50</td>\n",
       "      <td>88</td>\n",
       "      <td>9.37</td>\n",
       "      <td>overcast clouds</td>\n",
       "      <td>0.000000</td>\n",
       "      <td>0.0</td>\n",
       "    </tr>\n",
       "    <tr>\n",
       "      <th>4</th>\n",
       "      <td>Vaini</td>\n",
       "      <td>TO</td>\n",
       "      <td>2020-04-02 20:52:29</td>\n",
       "      <td>-21.20</td>\n",
       "      <td>-175.20</td>\n",
       "      <td>75.42</td>\n",
       "      <td>88</td>\n",
       "      <td>100</td>\n",
       "      <td>3.44</td>\n",
       "      <td>moderate rain</td>\n",
       "      <td>0.155906</td>\n",
       "      <td>0.0</td>\n",
       "    </tr>\n",
       "    <tr>\n",
       "      <th>5</th>\n",
       "      <td>Grand-Bourg</td>\n",
       "      <td>GP</td>\n",
       "      <td>2020-04-02 20:52:29</td>\n",
       "      <td>15.88</td>\n",
       "      <td>-61.31</td>\n",
       "      <td>84.20</td>\n",
       "      <td>74</td>\n",
       "      <td>75</td>\n",
       "      <td>9.17</td>\n",
       "      <td>broken clouds</td>\n",
       "      <td>0.000000</td>\n",
       "      <td>0.0</td>\n",
       "    </tr>\n",
       "    <tr>\n",
       "      <th>6</th>\n",
       "      <td>Rikitea</td>\n",
       "      <td>PF</td>\n",
       "      <td>2020-04-02 20:52:29</td>\n",
       "      <td>-23.12</td>\n",
       "      <td>-134.97</td>\n",
       "      <td>76.96</td>\n",
       "      <td>74</td>\n",
       "      <td>60</td>\n",
       "      <td>6.71</td>\n",
       "      <td>light rain</td>\n",
       "      <td>0.046850</td>\n",
       "      <td>0.0</td>\n",
       "    </tr>\n",
       "    <tr>\n",
       "      <th>7</th>\n",
       "      <td>Isangel</td>\n",
       "      <td>VU</td>\n",
       "      <td>2020-04-02 20:52:29</td>\n",
       "      <td>-19.55</td>\n",
       "      <td>169.27</td>\n",
       "      <td>78.08</td>\n",
       "      <td>86</td>\n",
       "      <td>100</td>\n",
       "      <td>12.88</td>\n",
       "      <td>moderate rain</td>\n",
       "      <td>0.200000</td>\n",
       "      <td>0.0</td>\n",
       "    </tr>\n",
       "    <tr>\n",
       "      <th>8</th>\n",
       "      <td>Saint-Philippe</td>\n",
       "      <td>RE</td>\n",
       "      <td>2020-04-02 20:52:30</td>\n",
       "      <td>-21.36</td>\n",
       "      <td>55.77</td>\n",
       "      <td>73.40</td>\n",
       "      <td>88</td>\n",
       "      <td>75</td>\n",
       "      <td>5.82</td>\n",
       "      <td>broken clouds</td>\n",
       "      <td>0.000000</td>\n",
       "      <td>0.0</td>\n",
       "    </tr>\n",
       "    <tr>\n",
       "      <th>9</th>\n",
       "      <td>Sioux Lookout</td>\n",
       "      <td>CA</td>\n",
       "      <td>2020-04-02 20:52:30</td>\n",
       "      <td>50.10</td>\n",
       "      <td>-91.92</td>\n",
       "      <td>48.20</td>\n",
       "      <td>49</td>\n",
       "      <td>90</td>\n",
       "      <td>10.29</td>\n",
       "      <td>overcast clouds</td>\n",
       "      <td>0.000000</td>\n",
       "      <td>0.0</td>\n",
       "    </tr>\n",
       "  </tbody>\n",
       "</table>\n",
       "</div>"
      ],
      "text/plain": [
       "             City Country                 Date    Lat     Lng  Max Temp  \\\n",
       "0      Phan Thiet      VN  2020-04-02 20:50:31  10.93  108.10     74.37   \n",
       "1          Albany      US  2020-04-02 20:52:28  42.60  -73.97     55.40   \n",
       "2       Saskylakh      RU  2020-04-02 20:52:29  71.92  114.08    -11.33   \n",
       "3     Montelibano      CO  2020-04-02 20:52:29   7.98  -75.42     91.40   \n",
       "4           Vaini      TO  2020-04-02 20:52:29 -21.20 -175.20     75.42   \n",
       "5     Grand-Bourg      GP  2020-04-02 20:52:29  15.88  -61.31     84.20   \n",
       "6         Rikitea      PF  2020-04-02 20:52:29 -23.12 -134.97     76.96   \n",
       "7         Isangel      VU  2020-04-02 20:52:29 -19.55  169.27     78.08   \n",
       "8  Saint-Philippe      RE  2020-04-02 20:52:30 -21.36   55.77     73.40   \n",
       "9   Sioux Lookout      CA  2020-04-02 20:52:30  50.10  -91.92     48.20   \n",
       "\n",
       "   Humidity  Cloudiness  Wind Speed Current Description  \\\n",
       "0        81          26        9.78    scattered clouds   \n",
       "1        37          90       19.46     overcast clouds   \n",
       "2        86          12       10.42          few clouds   \n",
       "3        50          88        9.37     overcast clouds   \n",
       "4        88         100        3.44       moderate rain   \n",
       "5        74          75        9.17       broken clouds   \n",
       "6        74          60        6.71          light rain   \n",
       "7        86         100       12.88       moderate rain   \n",
       "8        88          75        5.82       broken clouds   \n",
       "9        49          90       10.29     overcast clouds   \n",
       "\n",
       "   Rain inches (last 3 hrs)  Snow inches (last 3 hrs)  \n",
       "0                  0.000000                       0.0  \n",
       "1                  0.000000                       0.0  \n",
       "2                  0.000000                       0.0  \n",
       "3                  0.000000                       0.0  \n",
       "4                  0.155906                       0.0  \n",
       "5                  0.000000                       0.0  \n",
       "6                  0.046850                       0.0  \n",
       "7                  0.200000                       0.0  \n",
       "8                  0.000000                       0.0  \n",
       "9                  0.000000                       0.0  "
      ]
     },
     "execution_count": 10,
     "metadata": {},
     "output_type": "execute_result"
    }
   ],
   "source": [
    "# Convert the array of dictionaries to a Pandas DataFrame.\n",
    "city_data_df = pd.DataFrame(city_data)\n",
    "city_data_df.head(10)"
   ]
  },
  {
   "cell_type": "code",
   "execution_count": 11,
   "metadata": {},
   "outputs": [],
   "source": [
    "# Create the output file (CSV).\n",
    "output_challenge_data_file = \"weather_data/WeatherPy_challenge.csv\"\n",
    "\n",
    "# Export the City_Data into a CSV.\n",
    "city_data_df.to_csv(output_challenge_data_file)"
   ]
  },
  {
   "cell_type": "code",
   "execution_count": 20,
   "metadata": {},
   "outputs": [
    {
     "data": {
      "text/plain": [
       "97"
      ]
     },
     "execution_count": 20,
     "metadata": {},
     "output_type": "execute_result"
    }
   ],
   "source": [
    "# Create DataFrame to determine how many cities have recorded rainfall or snowfall in the last 3 hours.\n",
    "cities_rain_snow_df = city_data_df.loc[(city_data_df[\"Rain inches (last 3 hrs)\"] > 0) |\n",
    "                                       (city_data_df[\"Snow inches (last 3 hrs)\"] > 0)]\n",
    "\n",
    "# Get the number of cies that have recorded rainfall or snowfall in the last 3 hours.\n",
    "len(cities_rain_snow_df)"
   ]
  },
  {
   "cell_type": "code",
   "execution_count": null,
   "metadata": {},
   "outputs": [],
   "source": []
  }
 ],
 "metadata": {
  "kernelspec": {
   "display_name": "PythonData",
   "language": "python",
   "name": "pythondata"
  },
  "language_info": {
   "codemirror_mode": {
    "name": "ipython",
    "version": 3
   },
   "file_extension": ".py",
   "mimetype": "text/x-python",
   "name": "python",
   "nbconvert_exporter": "python",
   "pygments_lexer": "ipython3",
   "version": "3.7.6"
  }
 },
 "nbformat": 4,
 "nbformat_minor": 4
}
