{
 "cells": [
  {
   "cell_type": "markdown",
   "metadata": {},
   "source": [
    "# Create a Travel Itinerary with a Corresponding Map"
   ]
  },
  {
   "cell_type": "code",
   "execution_count": 1,
   "metadata": {},
   "outputs": [],
   "source": [
    "# Import the dependencies.\n",
    "import pandas as pd\n",
    "import gmaps\n",
    "import gmaps.datasets\n",
    "import requests"
   ]
  },
  {
   "cell_type": "code",
   "execution_count": 2,
   "metadata": {},
   "outputs": [],
   "source": [
    "# Import the API key.\n",
    "from config import g_key"
   ]
  },
  {
   "cell_type": "code",
   "execution_count": 3,
   "metadata": {},
   "outputs": [],
   "source": [
    "# Files to load\n",
    "vacation_data_to_load = \"data/WeatherPy_vacation.csv\""
   ]
  },
  {
   "cell_type": "code",
   "execution_count": 4,
   "metadata": {},
   "outputs": [
    {
     "data": {
      "text/html": [
       "<div>\n",
       "<style scoped>\n",
       "    .dataframe tbody tr th:only-of-type {\n",
       "        vertical-align: middle;\n",
       "    }\n",
       "\n",
       "    .dataframe tbody tr th {\n",
       "        vertical-align: top;\n",
       "    }\n",
       "\n",
       "    .dataframe thead th {\n",
       "        text-align: right;\n",
       "    }\n",
       "</style>\n",
       "<table border=\"1\" class=\"dataframe\">\n",
       "  <thead>\n",
       "    <tr style=\"text-align: right;\">\n",
       "      <th></th>\n",
       "      <th>City</th>\n",
       "      <th>Country</th>\n",
       "      <th>Max Temp</th>\n",
       "      <th>Lat</th>\n",
       "      <th>Lng</th>\n",
       "      <th>Current Description</th>\n",
       "      <th>Hotel Name</th>\n",
       "    </tr>\n",
       "  </thead>\n",
       "  <tbody>\n",
       "    <tr>\n",
       "      <th>0</th>\n",
       "      <td>Mindelo</td>\n",
       "      <td>CV</td>\n",
       "      <td>82.40</td>\n",
       "      <td>16.89</td>\n",
       "      <td>-24.98</td>\n",
       "      <td>few clouds</td>\n",
       "      <td>Hotel Gaudi</td>\n",
       "    </tr>\n",
       "    <tr>\n",
       "      <th>1</th>\n",
       "      <td>Hermanus</td>\n",
       "      <td>ZA</td>\n",
       "      <td>73.00</td>\n",
       "      <td>-34.42</td>\n",
       "      <td>19.23</td>\n",
       "      <td>broken clouds</td>\n",
       "      <td>Misty Waves Boutique Hotel</td>\n",
       "    </tr>\n",
       "    <tr>\n",
       "      <th>2</th>\n",
       "      <td>Constitucion</td>\n",
       "      <td>CL</td>\n",
       "      <td>70.36</td>\n",
       "      <td>-35.33</td>\n",
       "      <td>-72.42</td>\n",
       "      <td>few clouds</td>\n",
       "      <td>Hotel Boutique Las Azucenas</td>\n",
       "    </tr>\n",
       "    <tr>\n",
       "      <th>3</th>\n",
       "      <td>Georgetown</td>\n",
       "      <td>MY</td>\n",
       "      <td>82.40</td>\n",
       "      <td>5.41</td>\n",
       "      <td>100.34</td>\n",
       "      <td>few clouds</td>\n",
       "      <td>Cititel Penang</td>\n",
       "    </tr>\n",
       "    <tr>\n",
       "      <th>4</th>\n",
       "      <td>Ardakan</td>\n",
       "      <td>IR</td>\n",
       "      <td>73.40</td>\n",
       "      <td>32.31</td>\n",
       "      <td>54.02</td>\n",
       "      <td>scattered clouds</td>\n",
       "      <td>Ardakan Hotel</td>\n",
       "    </tr>\n",
       "  </tbody>\n",
       "</table>\n",
       "</div>"
      ],
      "text/plain": [
       "           City Country  Max Temp    Lat     Lng Current Description  \\\n",
       "0       Mindelo      CV     82.40  16.89  -24.98          few clouds   \n",
       "1      Hermanus      ZA     73.00 -34.42   19.23       broken clouds   \n",
       "2  Constitucion      CL     70.36 -35.33  -72.42          few clouds   \n",
       "3    Georgetown      MY     82.40   5.41  100.34          few clouds   \n",
       "4       Ardakan      IR     73.40  32.31   54.02    scattered clouds   \n",
       "\n",
       "                    Hotel Name  \n",
       "0                  Hotel Gaudi  \n",
       "1   Misty Waves Boutique Hotel  \n",
       "2  Hotel Boutique Las Azucenas  \n",
       "3               Cititel Penang  \n",
       "4                Ardakan Hotel  "
      ]
     },
     "execution_count": 4,
     "metadata": {},
     "output_type": "execute_result"
    }
   ],
   "source": [
    "# Read the data file, and store it in a DataFrame.\n",
    "vacation_itinerary_df = pd.read_csv(vacation_data_to_load)\n",
    "vacation_itinerary_df.head()"
   ]
  },
  {
   "cell_type": "code",
   "execution_count": 5,
   "metadata": {},
   "outputs": [
    {
     "data": {
      "text/html": [
       "<div>\n",
       "<style scoped>\n",
       "    .dataframe tbody tr th:only-of-type {\n",
       "        vertical-align: middle;\n",
       "    }\n",
       "\n",
       "    .dataframe tbody tr th {\n",
       "        vertical-align: top;\n",
       "    }\n",
       "\n",
       "    .dataframe thead th {\n",
       "        text-align: right;\n",
       "    }\n",
       "</style>\n",
       "<table border=\"1\" class=\"dataframe\">\n",
       "  <thead>\n",
       "    <tr style=\"text-align: right;\">\n",
       "      <th></th>\n",
       "      <th>City</th>\n",
       "      <th>Country</th>\n",
       "      <th>Max Temp</th>\n",
       "      <th>Lat</th>\n",
       "      <th>Lng</th>\n",
       "      <th>Current Description</th>\n",
       "      <th>Hotel Name</th>\n",
       "    </tr>\n",
       "  </thead>\n",
       "  <tbody>\n",
       "    <tr>\n",
       "      <th>66</th>\n",
       "      <td>Porto Velho</td>\n",
       "      <td>BR</td>\n",
       "      <td>82.40</td>\n",
       "      <td>-8.76</td>\n",
       "      <td>-63.90</td>\n",
       "      <td>broken clouds</td>\n",
       "      <td>Ecos Hotel Conforto</td>\n",
       "    </tr>\n",
       "    <tr>\n",
       "      <th>106</th>\n",
       "      <td>Camana</td>\n",
       "      <td>PE</td>\n",
       "      <td>77.45</td>\n",
       "      <td>-16.62</td>\n",
       "      <td>-72.71</td>\n",
       "      <td>clear sky</td>\n",
       "      <td>Hostal Morales</td>\n",
       "    </tr>\n",
       "    <tr>\n",
       "      <th>113</th>\n",
       "      <td>Alta Floresta</td>\n",
       "      <td>BR</td>\n",
       "      <td>87.80</td>\n",
       "      <td>-9.88</td>\n",
       "      <td>-56.09</td>\n",
       "      <td>scattered clouds</td>\n",
       "      <td>Floresta Amazonica Hotel</td>\n",
       "    </tr>\n",
       "    <tr>\n",
       "      <th>124</th>\n",
       "      <td>Pisco</td>\n",
       "      <td>PE</td>\n",
       "      <td>75.00</td>\n",
       "      <td>-13.70</td>\n",
       "      <td>-76.22</td>\n",
       "      <td>clear sky</td>\n",
       "      <td>Hostal San Isidro Oficial</td>\n",
       "    </tr>\n",
       "    <tr>\n",
       "      <th>129</th>\n",
       "      <td>Tarata</td>\n",
       "      <td>BO</td>\n",
       "      <td>77.00</td>\n",
       "      <td>-17.62</td>\n",
       "      <td>-66.02</td>\n",
       "      <td>scattered clouds</td>\n",
       "      <td>TARA TARA Centro Alternativo Hosting</td>\n",
       "    </tr>\n",
       "  </tbody>\n",
       "</table>\n",
       "</div>"
      ],
      "text/plain": [
       "              City Country  Max Temp    Lat    Lng Current Description  \\\n",
       "66     Porto Velho      BR     82.40  -8.76 -63.90       broken clouds   \n",
       "106         Camana      PE     77.45 -16.62 -72.71           clear sky   \n",
       "113  Alta Floresta      BR     87.80  -9.88 -56.09    scattered clouds   \n",
       "124          Pisco      PE     75.00 -13.70 -76.22           clear sky   \n",
       "129         Tarata      BO     77.00 -17.62 -66.02    scattered clouds   \n",
       "\n",
       "                               Hotel Name  \n",
       "66                    Ecos Hotel Conforto  \n",
       "106                        Hostal Morales  \n",
       "113              Floresta Amazonica Hotel  \n",
       "124             Hostal San Isidro Oficial  \n",
       "129  TARA TARA Centro Alternativo Hosting  "
      ]
     },
     "execution_count": 5,
     "metadata": {},
     "output_type": "execute_result"
    }
   ],
   "source": [
    "# Filter the DataFrame so it includes only the 5 cities that will be visited.\n",
    "vacation_itinerary_df = vacation_itinerary_df.loc[(vacation_itinerary_df[\"City\"]==\"Pisco\") |\n",
    "                                                   (vacation_itinerary_df[\"City\"]==\"Porto Velho\") |\n",
    "                                                   (vacation_itinerary_df[\"City\"]==\"Camana\") |\n",
    "                                                   (vacation_itinerary_df[\"City\"]==\"Alta Floresta\") |\n",
    "                                                   (vacation_itinerary_df[\"City\"]==\"Tarata\")]\n",
    "vacation_itinerary_df"
   ]
  },
  {
   "cell_type": "code",
   "execution_count": 6,
   "metadata": {},
   "outputs": [],
   "source": [
    "# Configure gmaps to use your Google API key.\n",
    "gmaps.configure(api_key=g_key)"
   ]
  },
  {
   "cell_type": "code",
   "execution_count": 7,
   "metadata": {},
   "outputs": [
    {
     "data": {
      "text/plain": [
       "<zip at 0x2007164ce88>"
      ]
     },
     "execution_count": 7,
     "metadata": {},
     "output_type": "execute_result"
    }
   ],
   "source": [
    "# Create a the set of latitude and longitude combinations.\n",
    "lat = vacation_itinerary_df[\"Lat\"]\n",
    "lng = vacation_itinerary_df[\"Lng\"]\n",
    "coordinates = zip(lat, lng)\n",
    "coordinates"
   ]
  },
  {
   "cell_type": "code",
   "execution_count": 8,
   "metadata": {},
   "outputs": [
    {
     "data": {
      "text/plain": [
       "[(-8.76, -63.9),\n",
       " (-16.62, -72.71),\n",
       " (-9.88, -56.09),\n",
       " (-13.7, -76.22),\n",
       " (-17.62, -66.02)]"
      ]
     },
     "execution_count": 8,
     "metadata": {},
     "output_type": "execute_result"
    }
   ],
   "source": [
    "# Add the latitudes and longitudes to a list.\n",
    "coordinates = list(coordinates)\n",
    "coordinates"
   ]
  },
  {
   "cell_type": "code",
   "execution_count": 66,
   "metadata": {},
   "outputs": [
    {
     "data": {
      "text/html": [
       "<div>\n",
       "<style scoped>\n",
       "    .dataframe tbody tr th:only-of-type {\n",
       "        vertical-align: middle;\n",
       "    }\n",
       "\n",
       "    .dataframe tbody tr th {\n",
       "        vertical-align: top;\n",
       "    }\n",
       "\n",
       "    .dataframe thead th {\n",
       "        text-align: right;\n",
       "    }\n",
       "</style>\n",
       "<table border=\"1\" class=\"dataframe\">\n",
       "  <thead>\n",
       "    <tr style=\"text-align: right;\">\n",
       "      <th></th>\n",
       "      <th>City</th>\n",
       "      <th>Country</th>\n",
       "      <th>Max Temp</th>\n",
       "      <th>Current Description</th>\n",
       "      <th>Hotel Name</th>\n",
       "      <th>Coordinates</th>\n",
       "    </tr>\n",
       "  </thead>\n",
       "  <tbody>\n",
       "    <tr>\n",
       "      <th>66</th>\n",
       "      <td>Porto Velho</td>\n",
       "      <td>BR</td>\n",
       "      <td>82.40</td>\n",
       "      <td>broken clouds</td>\n",
       "      <td>Ecos Hotel Conforto</td>\n",
       "      <td>(-8.76, -63.9)</td>\n",
       "    </tr>\n",
       "    <tr>\n",
       "      <th>106</th>\n",
       "      <td>Camana</td>\n",
       "      <td>PE</td>\n",
       "      <td>77.45</td>\n",
       "      <td>clear sky</td>\n",
       "      <td>Hostal Morales</td>\n",
       "      <td>(-16.62, -72.71)</td>\n",
       "    </tr>\n",
       "    <tr>\n",
       "      <th>113</th>\n",
       "      <td>Alta Floresta</td>\n",
       "      <td>BR</td>\n",
       "      <td>87.80</td>\n",
       "      <td>scattered clouds</td>\n",
       "      <td>Floresta Amazonica Hotel</td>\n",
       "      <td>(-9.88, -56.09)</td>\n",
       "    </tr>\n",
       "    <tr>\n",
       "      <th>124</th>\n",
       "      <td>Pisco</td>\n",
       "      <td>PE</td>\n",
       "      <td>75.00</td>\n",
       "      <td>clear sky</td>\n",
       "      <td>Hostal San Isidro Oficial</td>\n",
       "      <td>(-13.7, -76.22)</td>\n",
       "    </tr>\n",
       "    <tr>\n",
       "      <th>129</th>\n",
       "      <td>Tarata</td>\n",
       "      <td>BO</td>\n",
       "      <td>77.00</td>\n",
       "      <td>scattered clouds</td>\n",
       "      <td>TARA TARA Centro Alternativo Hosting</td>\n",
       "      <td>(-17.62, -66.02)</td>\n",
       "    </tr>\n",
       "  </tbody>\n",
       "</table>\n",
       "</div>"
      ],
      "text/plain": [
       "              City Country  Max Temp Current Description  \\\n",
       "66     Porto Velho      BR     82.40       broken clouds   \n",
       "106         Camana      PE     77.45           clear sky   \n",
       "113  Alta Floresta      BR     87.80    scattered clouds   \n",
       "124          Pisco      PE     75.00           clear sky   \n",
       "129         Tarata      BO     77.00    scattered clouds   \n",
       "\n",
       "                               Hotel Name       Coordinates  \n",
       "66                    Ecos Hotel Conforto    (-8.76, -63.9)  \n",
       "106                        Hostal Morales  (-16.62, -72.71)  \n",
       "113              Floresta Amazonica Hotel   (-9.88, -56.09)  \n",
       "124             Hostal San Isidro Oficial   (-13.7, -76.22)  \n",
       "129  TARA TARA Centro Alternativo Hosting  (-17.62, -66.02)  "
      ]
     },
     "execution_count": 66,
     "metadata": {},
     "output_type": "execute_result"
    }
   ],
   "source": [
    "#itinerary_df = vacation_itinerary_df[[\"City\", \"Country\", \"Max Temp\", \"Current Description\", \"Hotel Name\"]].copy()\n",
    "#itinerary_df[\"Coordinates\"] = coordinates\n",
    "#itinerary_df"
   ]
  },
  {
   "cell_type": "code",
   "execution_count": 67,
   "metadata": {},
   "outputs": [],
   "source": [
    "info_box_template = \"\"\"\n",
    "<dl>\n",
    "<dt>Hotel Name</dt>\n",
    "<dd>{Hotel Name}</dd>\n",
    "<dt>City</dt>\n",
    "<dd>{City}</dd>\n",
    "<dt>Country</dt>\n",
    "<dd>{Country}</dd>\n",
    "<dt>Current Weather</dt>\n",
    "<dd>{Current Description} and {Max Temp} °F</dd>\n",
    "</dl>\n",
    "\"\"\""
   ]
  },
  {
   "cell_type": "code",
   "execution_count": 70,
   "metadata": {},
   "outputs": [],
   "source": [
    "# Store the DataFrame Row.\n",
    "destination_info = [info_box_template.format(**row) for index, row in itinerary_df.iterrows()]"
   ]
  },
  {
   "cell_type": "code",
   "execution_count": 71,
   "metadata": {},
   "outputs": [
    {
     "data": {
      "application/vnd.jupyter.widget-view+json": {
       "model_id": "d13c7b81622d47c1a9a12899e8bb3824",
       "version_major": 2,
       "version_minor": 0
      },
      "text/plain": [
       "Figure(layout=FigureLayout(height='420px'))"
      ]
     },
     "metadata": {},
     "output_type": "display_data"
    }
   ],
   "source": [
    "# Latitude-longitude pairs\n",
    "porto_velho = coordinates[0]\n",
    "camana = coordinates[1]\n",
    "alta_floresta = coordinates[2]\n",
    "pisco = coordinates[3]\n",
    "tarata = coordinates[4]\n",
    "\n",
    "locations = [porto_velho, camana, alta_floresta, pisco, tarata]\n",
    "\n",
    "fig = gmaps.figure()\n",
    "marker_layer = gmaps.marker_layer(locations, info_box_content=destination_info)\n",
    "fig.add_layer(marker_layer)\n",
    "\n",
    "\n",
    "pisco2tarata = gmaps.directions_layer(pisco, tarata, waypoints=[camana, porto_velho, alta_floresta], travel_mode='DRIVING')\n",
    "fig.add_layer(pisco2tarata)\n",
    "\n",
    "\n",
    "fig"
   ]
  },
  {
   "cell_type": "code",
   "execution_count": null,
   "metadata": {},
   "outputs": [],
   "source": []
  }
 ],
 "metadata": {
  "kernelspec": {
   "display_name": "PythonData",
   "language": "python",
   "name": "pythondata"
  },
  "language_info": {
   "codemirror_mode": {
    "name": "ipython",
    "version": 3
   },
   "file_extension": ".py",
   "mimetype": "text/x-python",
   "name": "python",
   "nbconvert_exporter": "python",
   "pygments_lexer": "ipython3",
   "version": "3.7.6"
  }
 },
 "nbformat": 4,
 "nbformat_minor": 4
}
